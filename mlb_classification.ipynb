{
 "cells": [
  {
   "cell_type": "code",
   "execution_count": 1,
   "metadata": {},
   "outputs": [
    {
     "name": "stderr",
     "output_type": "stream",
     "text": [
      "/anaconda3/lib/python3.6/site-packages/h5py/__init__.py:36: FutureWarning: Conversion of the second argument of issubdtype from `float` to `np.floating` is deprecated. In future, it will be treated as `np.float64 == np.dtype(float).type`.\n",
      "  from ._conv import register_converters as _register_converters\n",
      "Using TensorFlow backend.\n"
     ]
    }
   ],
   "source": [
    "import numpy as np\n",
    "import keras\n",
    "import pickle\n",
    "from keras.utils.io_utils import HDF5Matrix\n",
    "from keras import backend as K\n",
    "from keras.models import Sequential\n",
    "from keras.layers import Activation\n",
    "from keras.layers.core import Dense, Flatten\n",
    "from keras.optimizers import Adam\n",
    "from keras.metrics import binary_crossentropy\n",
    "from keras.preprocessing.image import ImageDataGenerator\n",
    "from keras.layers.normalization import BatchNormalization\n",
    "from keras.layers.convolutional import *\n",
    "from keras.models import load_model\n",
    "from matplotlib import pyplot as plt\n",
    "from sklearn.metrics import f1_score\n",
    "from sklearn.utils.class_weight import compute_class_weight\n",
    "import itertools\n",
    "from functions import plot_metrics, plot_images, class_weights_from_labels, f1, plot_f1\n",
    "%matplotlib inline"
   ]
  },
  {
   "cell_type": "code",
   "execution_count": 2,
   "metadata": {},
   "outputs": [
    {
     "data": {
      "text/plain": [
       "'2.1.6'"
      ]
     },
     "execution_count": 2,
     "metadata": {},
     "output_type": "execute_result"
    }
   ],
   "source": [
    "keras.__version__"
   ]
  },
  {
   "cell_type": "code",
   "execution_count": 3,
   "metadata": {},
   "outputs": [],
   "source": [
    "datapath = '/Users/diegoeduardo/Desktop/Image Gravity Project/Coral Reef Data desk/dataset/mlb_data_reduced.hdf5'\n",
    "\n",
    "train_img = HDF5Matrix(datapath, 'train_img')\n",
    "train_labels = HDF5Matrix(datapath, 'train_labels')\n",
    "\n",
    "val_img = HDF5Matrix(datapath, 'val_img')\n",
    "val_labels = HDF5Matrix(datapath, 'val_labels')\n",
    "\n",
    "test_img = HDF5Matrix(datapath, 'test_img')\n",
    "test_labels = HDF5Matrix(datapath, 'test_labels')"
   ]
  },
  {
   "cell_type": "code",
   "execution_count": 4,
   "metadata": {},
   "outputs": [],
   "source": [
    "batch_size = 32\n",
    "\n",
    "train_batches = ImageDataGenerator(rescale=1./255).flow(train_img, train_labels, batch_size=batch_size)\n",
    "val_batches = ImageDataGenerator(rescale=1./255).flow(val_img, val_labels, batch_size=batch_size)\n",
    "test_batches = ImageDataGenerator(rescale=1./255).flow(test_img, test_labels, batch_size=batch_size)"
   ]
  },
  {
   "cell_type": "code",
   "execution_count": 5,
   "metadata": {},
   "outputs": [],
   "source": [
    "with open('/Users/diegoeduardo/Desktop/Image Gravity Project/Coral Reef Data desk/dataset/classes_reduced.txt', \"rb\") as fp:\n",
    "    classes = pickle.load(fp)"
   ]
  },
  {
   "cell_type": "code",
   "execution_count": 6,
   "metadata": {},
   "outputs": [],
   "source": [
    "train_top_only = True\n",
    "\n",
    "vgg16_model_temp = keras.applications.vgg16.VGG16()\n",
    "vgg16_model = Sequential()\n",
    "for layer in vgg16_model_temp.layers[:-1]:\n",
    "    vgg16_model.add(layer)\n",
    "del vgg16_model_temp\n",
    "if train_top_only:\n",
    "    for layer in vgg16_model.layers:\n",
    "        layer.trainable = False\n",
    "vgg16_model.add(Dense(len(classes), activation='sigmoid')) #use sigmoid in multi-label problems"
   ]
  },
  {
   "cell_type": "code",
   "execution_count": 7,
   "metadata": {
    "scrolled": true
   },
   "outputs": [
    {
     "name": "stdout",
     "output_type": "stream",
     "text": [
      "_________________________________________________________________\n",
      "Layer (type)                 Output Shape              Param #   \n",
      "=================================================================\n",
      "input_1 (InputLayer)         (None, 224, 224, 3)       0         \n",
      "_________________________________________________________________\n",
      "block1_conv1 (Conv2D)        (None, 224, 224, 64)      1792      \n",
      "_________________________________________________________________\n",
      "block1_conv2 (Conv2D)        (None, 224, 224, 64)      36928     \n",
      "_________________________________________________________________\n",
      "block1_pool (MaxPooling2D)   (None, 112, 112, 64)      0         \n",
      "_________________________________________________________________\n",
      "block2_conv1 (Conv2D)        (None, 112, 112, 128)     73856     \n",
      "_________________________________________________________________\n",
      "block2_conv2 (Conv2D)        (None, 112, 112, 128)     147584    \n",
      "_________________________________________________________________\n",
      "block2_pool (MaxPooling2D)   (None, 56, 56, 128)       0         \n",
      "_________________________________________________________________\n",
      "block3_conv1 (Conv2D)        (None, 56, 56, 256)       295168    \n",
      "_________________________________________________________________\n",
      "block3_conv2 (Conv2D)        (None, 56, 56, 256)       590080    \n",
      "_________________________________________________________________\n",
      "block3_conv3 (Conv2D)        (None, 56, 56, 256)       590080    \n",
      "_________________________________________________________________\n",
      "block3_pool (MaxPooling2D)   (None, 28, 28, 256)       0         \n",
      "_________________________________________________________________\n",
      "block4_conv1 (Conv2D)        (None, 28, 28, 512)       1180160   \n",
      "_________________________________________________________________\n",
      "block4_conv2 (Conv2D)        (None, 28, 28, 512)       2359808   \n",
      "_________________________________________________________________\n",
      "block4_conv3 (Conv2D)        (None, 28, 28, 512)       2359808   \n",
      "_________________________________________________________________\n",
      "block4_pool (MaxPooling2D)   (None, 14, 14, 512)       0         \n",
      "_________________________________________________________________\n",
      "block5_conv1 (Conv2D)        (None, 14, 14, 512)       2359808   \n",
      "_________________________________________________________________\n",
      "block5_conv2 (Conv2D)        (None, 14, 14, 512)       2359808   \n",
      "_________________________________________________________________\n",
      "block5_conv3 (Conv2D)        (None, 14, 14, 512)       2359808   \n",
      "_________________________________________________________________\n",
      "block5_pool (MaxPooling2D)   (None, 7, 7, 512)         0         \n",
      "_________________________________________________________________\n",
      "flatten (Flatten)            (None, 25088)             0         \n",
      "_________________________________________________________________\n",
      "fc1 (Dense)                  (None, 4096)              102764544 \n",
      "_________________________________________________________________\n",
      "fc2 (Dense)                  (None, 4096)              16781312  \n",
      "_________________________________________________________________\n",
      "dense_1 (Dense)              (None, 27)                110619    \n",
      "=================================================================\n",
      "Total params: 134,371,163\n",
      "Trainable params: 110,619\n",
      "Non-trainable params: 134,260,544\n",
      "_________________________________________________________________\n"
     ]
    }
   ],
   "source": [
    "vgg16_model.summary()"
   ]
  },
  {
   "cell_type": "code",
   "execution_count": 8,
   "metadata": {},
   "outputs": [],
   "source": [
    "early_stopping = keras.callbacks.EarlyStopping(monitor='val_f1', min_delta=1e-4, patience=5, verbose=1, \n",
    "                                               mode='max')\n",
    "filepath = '/Users/diegoeduardo/Desktop/Image Gravity Project/Coral Reef Data desk/models/mlb_classifier.h5'\n",
    "checkpoint = keras.callbacks.ModelCheckpoint(filepath, monitor='val_f1', verbose=1, save_best_only=True, \n",
    "                                             save_weights_only=False, mode='max', period=1)"
   ]
  },
  {
   "cell_type": "code",
   "execution_count": 9,
   "metadata": {},
   "outputs": [],
   "source": [
    "learning_rate = 1e-4\n",
    "steps_per_epoch = train_img.shape[0] // batch_size #198 to go through all examples\n",
    "val_steps = 10 #32*10 = 320 examples for validation --> do not use all exanples --> reduce time of computation\n",
    "class_weights = class_weights_from_labels(train_labels)\n",
    "epochs = 100"
   ]
  },
  {
   "cell_type": "code",
   "execution_count": 10,
   "metadata": {},
   "outputs": [],
   "source": [
    "#use binary crossentropy in multi-label problems\n",
    "vgg16_model.compile(Adam(lr=learning_rate), loss='binary_crossentropy', metrics=['accuracy', f1])"
   ]
  },
  {
   "cell_type": "code",
   "execution_count": null,
   "metadata": {
    "scrolled": true
   },
   "outputs": [
    {
     "name": "stdout",
     "output_type": "stream",
     "text": [
      "Epoch 1/100\n",
      "198/198 [==============================] - 3755s 19s/step - loss: 0.3477 - acc: 0.8646 - f1: 0.2933 - val_loss: 0.3187 - val_acc: 0.8759 - val_f1: 0.3257\n",
      "\n",
      "Epoch 00001: val_f1 improved from -inf to 0.32574, saving model to /Users/diegoeduardo/Desktop/Image Gravity Project/Coral Reef Data desk/models/mlb_classifier.h5\n",
      "Epoch 2/100\n",
      "198/198 [==============================] - 3785s 19s/step - loss: 0.3088 - acc: 0.8815 - f1: 0.3446 - val_loss: 0.3008 - val_acc: 0.8787 - val_f1: 0.3492\n",
      "\n",
      "Epoch 00002: val_f1 improved from 0.32574 to 0.34920, saving model to /Users/diegoeduardo/Desktop/Image Gravity Project/Coral Reef Data desk/models/mlb_classifier.h5\n",
      "Epoch 3/100\n",
      "198/198 [==============================] - 4353s 22s/step - loss: 0.2957 - acc: 0.8853 - f1: 0.3830 - val_loss: 0.2926 - val_acc: 0.8830 - val_f1: 0.4049\n",
      "\n",
      "Epoch 00003: val_f1 improved from 0.34920 to 0.40493, saving model to /Users/diegoeduardo/Desktop/Image Gravity Project/Coral Reef Data desk/models/mlb_classifier.h5\n",
      "Epoch 4/100\n",
      "198/198 [==============================] - 3709s 19s/step - loss: 0.2859 - acc: 0.8882 - f1: 0.4137 - val_loss: 0.2832 - val_acc: 0.8873 - val_f1: 0.4274\n",
      "\n",
      "Epoch 00004: val_f1 improved from 0.40493 to 0.42738, saving model to /Users/diegoeduardo/Desktop/Image Gravity Project/Coral Reef Data desk/models/mlb_classifier.h5\n",
      "Epoch 5/100\n",
      "198/198 [==============================] - 3756s 19s/step - loss: 0.2801 - acc: 0.8909 - f1: 0.4404 - val_loss: 0.2780 - val_acc: 0.8891 - val_f1: 0.4480\n",
      "\n",
      "Epoch 00005: val_f1 improved from 0.42738 to 0.44797, saving model to /Users/diegoeduardo/Desktop/Image Gravity Project/Coral Reef Data desk/models/mlb_classifier.h5\n",
      "Epoch 6/100\n",
      "198/198 [==============================] - 3729s 19s/step - loss: 0.2734 - acc: 0.8935 - f1: 0.4671 - val_loss: 0.2716 - val_acc: 0.8933 - val_f1: 0.4780\n",
      "\n",
      "Epoch 00006: val_f1 improved from 0.44797 to 0.47796, saving model to /Users/diegoeduardo/Desktop/Image Gravity Project/Coral Reef Data desk/models/mlb_classifier.h5\n",
      "Epoch 7/100\n",
      "198/198 [==============================] - 3869s 20s/step - loss: 0.2699 - acc: 0.8948 - f1: 0.4801 - val_loss: 0.2702 - val_acc: 0.8902 - val_f1: 0.4472\n",
      "\n",
      "Epoch 00007: val_f1 did not improve from 0.47796\n",
      "Epoch 8/100\n",
      "198/198 [==============================] - 4217s 21s/step - loss: 0.2648 - acc: 0.8966 - f1: 0.4945 - val_loss: 0.2626 - val_acc: 0.8978 - val_f1: 0.5284\n",
      "\n",
      "Epoch 00008: val_f1 improved from 0.47796 to 0.52841, saving model to /Users/diegoeduardo/Desktop/Image Gravity Project/Coral Reef Data desk/models/mlb_classifier.h5\n",
      "Epoch 9/100\n",
      "198/198 [==============================] - 4174s 21s/step - loss: 0.2609 - acc: 0.8987 - f1: 0.5116 - val_loss: 0.2591 - val_acc: 0.8976 - val_f1: 0.5174\n",
      "\n",
      "Epoch 00009: val_f1 did not improve from 0.52841\n",
      "Epoch 10/100\n",
      "198/198 [==============================] - 4052s 20s/step - loss: 0.2586 - acc: 0.8993 - f1: 0.5203 - val_loss: 0.2552 - val_acc: 0.8976 - val_f1: 0.5274\n",
      "\n",
      "Epoch 00010: val_f1 did not improve from 0.52841\n",
      "Epoch 11/100\n",
      "198/198 [==============================] - 3558s 18s/step - loss: 0.2563 - acc: 0.9013 - f1: 0.5338 - val_loss: 0.2543 - val_acc: 0.8987 - val_f1: 0.5261\n",
      "\n",
      "Epoch 00011: val_f1 did not improve from 0.52841\n",
      "Epoch 12/100\n",
      " 61/198 [========>.....................] - ETA: 38:56 - loss: 0.2517 - acc: 0.9011 - f1: 0.5264"
     ]
    }
   ],
   "source": [
    "history = vgg16_model.fit_generator(train_batches, steps_per_epoch=steps_per_epoch, \n",
    "                                    epochs=epochs, validation_data=val_batches, \n",
    "                                    validation_steps=val_steps, class_weight=class_weights,\n",
    "                                    callbacks=[checkpoint, early_stopping], verbose=1)"
   ]
  },
  {
   "cell_type": "code",
   "execution_count": null,
   "metadata": {},
   "outputs": [],
   "source": [
    "plot_metrics(history.history)"
   ]
  },
  {
   "cell_type": "code",
   "execution_count": null,
   "metadata": {},
   "outputs": [],
   "source": [
    "test_steps = 20\n",
    "test_labels = np.zeros((test_steps*batch_size, len(classes)))\n",
    "for i in range(test_steps):\n",
    "    test_imgs, test_labels_temp = next(test_batches)\n",
    "    test_labels[i*batch_size:(i+1)*batch_size] = test_labels_temp\n",
    "predictions = vgg16_model.predict_generator(test_batches, steps=test_steps, verbose=0)"
   ]
  },
  {
   "cell_type": "code",
   "execution_count": null,
   "metadata": {},
   "outputs": [],
   "source": [
    "plot_f1(test_labels, preds, average='samples')"
   ]
  }
 ],
 "metadata": {
  "kernelspec": {
   "display_name": "Python 3",
   "language": "python",
   "name": "python3"
  },
  "language_info": {
   "codemirror_mode": {
    "name": "ipython",
    "version": 3
   },
   "file_extension": ".py",
   "mimetype": "text/x-python",
   "name": "python",
   "nbconvert_exporter": "python",
   "pygments_lexer": "ipython3",
   "version": "3.6.4"
  }
 },
 "nbformat": 4,
 "nbformat_minor": 2
}
